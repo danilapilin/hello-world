{
 "cells": [
  {
   "cell_type": "code",
   "execution_count": null,
   "metadata": {
    "collapsed": true
   },
   "outputs": [],
   "source": [
    "#В качестве данных были будут использованы отзывы с сайта banki.ru.\n",
    "#   1) Будет решаться задача классификации\n",
    "#   2) Обучаться модель будет по оценкам, проставленным пользователями.\n",
    "#      Также предлагается использовать только крайние оценки 1 и 5, так как все\n",
    "#      нейтральные оценки будет довольно сложно предсказать из-за разного понимания\n",
    "#      пользователей значения промежуточных оценок.\n",
    "#   3) Качество будет измеряться метриками precision и recall"
   ]
  },
  {
   "cell_type": "code",
   "execution_count": null,
   "metadata": {
    "collapsed": true
   },
   "outputs": [],
   "source": [
    "from bs4 import BeautifulSoup\n",
    "import requests\n",
    "import re"
   ]
  },
  {
   "cell_type": "code",
   "execution_count": null,
   "metadata": {},
   "outputs": [],
   "source": [
    "response = requests.get(\"http://www.banki.ru/services/responses/bank/unicreditbank/\")"
   ]
  },
  {
   "cell_type": "code",
   "execution_count": null,
   "metadata": {},
   "outputs": [],
   "source": [
    "bs4_object = BeautifulSoup(response.text, \"html5lib\")"
   ]
  },
  {
   "cell_type": "code",
   "execution_count": null,
   "metadata": {},
   "outputs": [],
   "source": [
    "for x in bs4_object.find_all(\"div\", attrs={\"class\": \"responses__item__message\"}):\n",
    "    print(x)"
   ]
  },
  {
   "cell_type": "code",
   "execution_count": null,
   "metadata": {},
   "outputs": [],
   "source": [
    "first_obj = bs4_object.find_all(\"div\", attrs={\"class\": \"responses__item__message\"})[0] \n",
    "print(first_obj)"
   ]
  },
  {
   "cell_type": "code",
   "execution_count": null,
   "metadata": {},
   "outputs": [],
   "source": [
    "parts = [p.strip() for p in first_obj.text.split('\\n') if p != '']\n",
    "parts"
   ]
  },
  {
   "cell_type": "code",
   "execution_count": null,
   "metadata": {},
   "outputs": [],
   "source": [
    "%%time\n",
    "page_num = 0\n",
    "doctors = []\n",
    "\n",
    "while True:\n",
    "    page_num += 1 \n",
    "    print ('page_num {}'.format(page_num))\n",
    "    url = \"http://www.banki.ru/services/responses/bank/unicreditbank/?page={}\".format(page_num)\n",
    "    response = requests.get(url)\n",
    "    if page_num >5 :\n",
    "        break\n",
    "    bs4_object = BeautifulSoup(response.text, \"html5lib\")\n",
    "    for d in bs4_object.find_all(\"div\", attrs={\"class\": \"responses__item__message\"}):\n",
    "        print(d)"
   ]
  },
  {
   "cell_type": "code",
   "execution_count": null,
   "metadata": {
    "collapsed": true
   },
   "outputs": [],
   "source": []
  },
  {
   "cell_type": "code",
   "execution_count": null,
   "metadata": {
    "collapsed": true
   },
   "outputs": [],
   "source": []
  }
 ],
 "metadata": {
  "kernelspec": {
   "display_name": "Python 3",
   "language": "python",
   "name": "python3"
  },
  "language_info": {
   "codemirror_mode": {
    "name": "ipython",
    "version": 3
   },
   "file_extension": ".py",
   "mimetype": "text/x-python",
   "name": "python",
   "nbconvert_exporter": "python",
   "pygments_lexer": "ipython3",
   "version": "3.6.3"
  }
 },
 "nbformat": 4,
 "nbformat_minor": 2
}
