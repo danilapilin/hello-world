{
 "cells": [
  {
   "cell_type": "code",
   "execution_count": 106,
   "metadata": {
    "collapsed": true
   },
   "outputs": [],
   "source": [
    "import numpy as np\n",
    "import scipy\n",
    "import matplotlib.pyplot as plt\n",
    "import scipy.stats\n",
    "from scipy.stats import bernoulli\n",
    "import statsmodels\n",
    "import statsmodels.sandbox.stats.multicomp\n",
    "\n",
    "%matplotlib inline"
   ]
  },
  {
   "cell_type": "code",
   "execution_count": 107,
   "metadata": {
    "collapsed": true
   },
   "outputs": [],
   "source": [
    "#ЦПТ\n",
    "def get_95_interval(data, sigma=None):\n",
    "    mean = data.mean()\n",
    "    if sigma is None:\n",
    "        sigma = data.std()\n",
    "    err = sigma * 1.96 / np.sqrt(len(data))\n",
    "    return mean - err, mean + err"
   ]
  },
  {
   "cell_type": "code",
   "execution_count": 128,
   "metadata": {},
   "outputs": [
    {
     "name": "stdout",
     "output_type": "stream",
     "text": [
      "0.8938\n"
     ]
    }
   ],
   "source": [
    "hits = 0.\n",
    "count = 0.\n",
    "true_mean = 0.5\n",
    "\n",
    "for _ in range(10000):\n",
    "    data = bernoulli.rvs(true_mean,0, size=10)\n",
    "    lower_bound, upper_bound = get_95_interval(data)\n",
    "    count += 1\n",
    "    if lower_bound <= true_mean <= upper_bound:\n",
    "        hits += 1\n",
    "        \n",
    "print(hits / count)"
   ]
  },
  {
   "cell_type": "code",
   "execution_count": 131,
   "metadata": {
    "collapsed": true
   },
   "outputs": [],
   "source": [
    "#Bootstap для Бернулли\n",
    "def my_bootstrap(data_fst, data_snd, iters=1000, plot=True):\n",
    "    values = []\n",
    "    for _ in range(iters):\n",
    "        values.append(\n",
    "            np.random.choice(data_fst, replace=True, size=len(data_fst)).mean()\n",
    "            -\n",
    "            np.random.choice(data_snd, replace=True, size=len(data_snd)).mean()\n",
    "        )\n",
    "        \n",
    "    if plot:\n",
    "        plt.hist(values, bins=30)\n",
    "        plt.show()\n",
    "        \n",
    "    return np.percentile(values, [2.5, 97.5])"
   ]
  },
  {
   "cell_type": "code",
   "execution_count": 150,
   "metadata": {},
   "outputs": [
    {
     "name": "stdout",
     "output_type": "stream",
     "text": [
      "0.554787999668\n"
     ]
    },
    {
     "data": {
      "image/png": "[encoded data removed]",
      "text/plain": [
       "<matplotlib.figure.Figure at 0xc5576d8>"
      ]
     },
     "metadata": {},
     "output_type": "display_data"
    },
    {
     "name": "stdout",
     "output_type": "stream",
     "text": [
      "[-0.127025  0.076   ]\n"
     ]
    }
   ],
   "source": [
    "data_fst = bernoulli.rvs(0.5, 1, size=1000)\n",
    "data_snd = bernoulli.rvs(0.5, 1, size=100)\n",
    "\n",
    "print(scipy.stats.ttest_ind(data_fst, data_snd).pvalue)\n",
    "print(my_bootstrap(data_fst, data_snd, iters=1000, plot=True))"
   ]
  },
  {
   "cell_type": "code",
   "execution_count": null,
   "metadata": {},
   "outputs": [],
   "source": [
    "#Корректность\n",
    "hits = 0.\n",
    "count = 0.\n",
    "\n",
    "for _ in range(1000):\n",
    "    data_fst = np.random.normal(10, 10, size=1000)\n",
    "    data_snd = np.random.normal(10, 1, size=100)\n",
    "\n",
    "    lower, upper = my_bootstrap(data_fst, data_snd, plot=False, iters=1000)\n",
    "    count += 1\n",
    "    if not (lower < 0 < upper):\n",
    "        hits += 1\n",
    "\n",
    "print(hits / count)"
   ]
  },
  {
   "cell_type": "code",
   "execution_count": null,
   "metadata": {
    "collapsed": true
   },
   "outputs": [],
   "source": [
    "#Корректность c выбросами\n",
    "hits = 0.\n",
    "count = 0.\n",
    "\n",
    "for _ in range(1000):\n",
    "    data_fst = np.append(np.random.normal(10, 10, size=1000),[-1000000, -1000000])\n",
    "    data_snd = np.random.normal(10, 1, size=100)\n",
    "\n",
    "    lower, upper = my_bootstrap(data_fst, data_snd, plot=False, iters=1000)\n",
    "    count += 1\n",
    "    if not (lower < 0 < upper):\n",
    "        hits += 1\n",
    "\n",
    "print(hits / count)"
   ]
  },
  {
   "cell_type": "code",
   "execution_count": null,
   "metadata": {},
   "outputs": [],
   "source": [
    "#Мощность критерия\n",
    "pvalues = []\n",
    "for _ in range(10000):\n",
    "    data_fst = bernoulli.rvs(0.5, 10, size=100)\n",
    "    data_snd = bernoulli.rvs(0.5, 1, size=100)\n",
    "    pvalues.append(scipy.stats.ttest_ind(data_fst, data_snd).pvalue)\n",
    "    \n",
    "print((np.array(pvalues) < 0.05).mean())\n",
    "plt.hist(pvalues)\n",
    "plt.show()"
   ]
  },
  {
   "cell_type": "code",
   "execution_count": null,
   "metadata": {},
   "outputs": [],
   "source": [
    "#Мощность критерия с выбросами\n",
    "hits = 0.\n",
    "count = 0.\n",
    "\n",
    "for _ in range(1000):\n",
    "    data_fst = np.append(np.random.normal(11, 10, size=1000),[-1000000, -1000000])\n",
    "    data_snd = np.random.normal(10, 1, size=100)\n",
    "\n",
    "    lower, upper = my_bootstrap(data_fst, data_snd, plot=False, iters=1000)\n",
    "    count += 1\n",
    "    if not (lower < 0 < upper):\n",
    "        hits += 1\n",
    "\n",
    "print(hits / count)"
   ]
  },
  {
   "cell_type": "code",
   "execution_count": null,
   "metadata": {
    "collapsed": true
   },
   "outputs": [],
   "source": [
    "#Перестановочные тесты\n",
    "def my_test(data_fst, data_snd, iters=1000, plot=True):\n",
    "    data = np.array(list(data_fst) + list(data_snd))\n",
    "    size = len(data)\n",
    "    values = []\n",
    "    fst_ratio = len(data_fst) * 1. / size\n",
    "    for _ in range(iters):\n",
    "        mask = (bernoulli.rvs(0.5, size=size) < fst_ratio)\n",
    "        values.append(data[mask].mean() - data[~mask].mean())\n",
    "        \n",
    "    if plot:\n",
    "        plt.hist(values, bins=30)\n",
    "        plt.show()\n",
    "        \n",
    "    return (np.abs(values) > np.abs(data_fst.mean() - data_snd.mean())).mean()"
   ]
  },
  {
   "cell_type": "code",
   "execution_count": null,
   "metadata": {},
   "outputs": [],
   "source": [
    "data_fst = bernoulli.rvs(0.5, 0, size=100)\n",
    "data_snd = bernoulli.rvs(0.5, 0, size=100)"
   ]
  },
  {
   "cell_type": "code",
   "execution_count": null,
   "metadata": {},
   "outputs": [],
   "source": [
    "print(scipy.stats.ttest_ind(data_fst, data_snd).pvalue)\n",
    "print(my_test(data_fst, data_snd, iters=10))\n",
    "print(my_test(data_fst, data_snd, iters=100))\n",
    "print(my_test(data_fst, data_snd, iters=1000))\n",
    "print(my_test(data_fst, data_snd, iters=10000))"
   ]
  },
  {
   "cell_type": "code",
   "execution_count": null,
   "metadata": {
    "collapsed": true
   },
   "outputs": [],
   "source": [
    "#Корректность\n",
    "hits = 0.\n",
    "count = 0.\n",
    "\n",
    "for _ in range(1000):\n",
    "    data_fst = np.random.normal(10, 1, size=1000)\n",
    "    data_snd = np.random.normal(10, 1, size=100)\n",
    "\n",
    "    count += 1\n",
    "    if my_test(data_fst, data_snd, plot=False, iters=1000) < 0.05:\n",
    "        hits += 1\n",
    "\n",
    "print(hits / count)"
   ]
  },
  {
   "cell_type": "code",
   "execution_count": null,
   "metadata": {
    "collapsed": true
   },
   "outputs": [],
   "source": [
    "#Корректность с выбросами\n",
    "hits = 0.\n",
    "count = 0.\n",
    "\n",
    "for _ in range(1000):\n",
    "    data_fst = np.append(np.random.normal(10, 1, size=1000),[-1000000, -1000000])\n",
    "    data_snd = np.random.normal(10, 1, size=100)\n",
    "\n",
    "    count += 1\n",
    "    if my_test(data_fst, data_snd, plot=False, iters=1000) < 0.05:\n",
    "        hits += 1\n",
    "\n",
    "print(hits / count)"
   ]
  },
  {
   "cell_type": "code",
   "execution_count": null,
   "metadata": {
    "collapsed": true
   },
   "outputs": [],
   "source": [
    "#Мощность\n",
    "hits = 0.\n",
    "count = 0.\n",
    "\n",
    "for _ in range(1000):\n",
    "    data_fst = np.random.normal(11, 1, size=1000)\n",
    "    data_snd = np.random.normal(10, 1, size=100)\n",
    "\n",
    "    count += 1\n",
    "    if my_test(data_fst, data_snd, plot=False, iters=1000) < 0.05:\n",
    "        hits += 1\n",
    "\n",
    "print(hits / count)"
   ]
  },
  {
   "cell_type": "code",
   "execution_count": null,
   "metadata": {
    "collapsed": true
   },
   "outputs": [],
   "source": [
    "#Мощность с выбросами\n",
    "hits = 0.\n",
    "count = 0.\n",
    "\n",
    "for _ in range(1000):\n",
    "    data_fst = np.append(np.random.normal(11, 1, size=1000),[-1000000, -1000000])\n",
    "    data_snd = np.random.normal(10, 1, size=100)\n",
    "\n",
    "    count += 1\n",
    "    if my_test(data_fst, data_snd, plot=False, iters=1000) < 0.05:\n",
    "        hits += 1\n",
    "\n",
    "print(hits / count)"
   ]
  },
  {
   "cell_type": "code",
   "execution_count": null,
   "metadata": {
    "collapsed": true
   },
   "outputs": [],
   "source": []
  }
 ],
 "metadata": {
  "kernelspec": {
   "display_name": "Python 3",
   "language": "python",
   "name": "python3"
  },
  "language_info": {
   "codemirror_mode": {
    "name": "ipython",
    "version": 3
   },
   "file_extension": ".py",
   "mimetype": "text/x-python",
   "name": "python",
   "nbconvert_exporter": "python",
   "pygments_lexer": "ipython3",
   "version": "3.6.3"
  }
 },
 "nbformat": 4,
 "nbformat_minor": 2
}
