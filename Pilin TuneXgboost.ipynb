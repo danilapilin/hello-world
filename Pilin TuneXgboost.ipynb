{
 "cells": [
  {
   "cell_type": "markdown",
   "metadata": {},
   "source": [
    "# Задание\n",
    "\n",
    "Попробуйте настроить параметры градиентного бустинга на этом датасете, и посмотрите, как изменение отдельных параметров влияет на результат.\n",
    "\n",
    "#### Конечная цель - сказать значение параметров xgb, при которых будет самое хорошее качество на кроссвалидации"
   ]
  },
  {
   "cell_type": "code",
   "execution_count": 115,
   "metadata": {
    "collapsed": true
   },
   "outputs": [],
   "source": [
    "from sklearn.model_selection import cross_val_score\n",
    "import xgboost as xgb\n",
    "import pandas\n",
    "import numpy as np\n",
    "import signal\n",
    "\n",
    "bioresponce = pandas.read_csv('../seminar01/bioresponse.csv', header=0, sep=',')\n",
    "bioresponce_target = bioresponce.Activity.values\n",
    "bioresponce_data = bioresponce.iloc[:, 1:]\n",
    "\n",
    "def signal_handler(signum, frame):\n",
    "    raise Exception(\"Timed out!\")\n",
    "\n",
    "def estimate_params(params):\n",
    "    #signal.signal(signal.SIGALRM, signal_handler)\n",
    "    #signal.alarm(30)\n",
    "    estimator = xgb.XGBClassifier(**params)\n",
    "\n",
    "    try:\n",
    "        score = np.mean(cross_val_score(\n",
    "            estimator, bioresponce_data, bioresponce_target,\n",
    "            scoring = 'accuracy', cv = 3\n",
    "        ))\n",
    "    except Exception:\n",
    "        score = None\n",
    "    \n",
    "    return score"
   ]
  },
  {
   "cell_type": "code",
   "execution_count": 114,
   "metadata": {},
   "outputs": [
    {
     "name": "stdout",
     "output_type": "stream",
     "text": [
      "0.79978555822\n",
      "Wall time: 6min 11s\n"
     ]
    }
   ],
   "source": [
    "%%time \n",
    "for learning_rate in [0.02]:\n",
    "    print (estimate_params({\n",
    "        'learning_rate': learning_rate,\n",
    "        'n_jobs': 2,\n",
    "        'max_depth': 6,\n",
    "        'subsample': 0.9,\n",
    "        'colsample_bytree' : 0.7,\n",
    "        'n_estimators': 1000,\n",
    "        'min_child_weight': 4,\n",
    "        'seed': 1337 }))"
   ]
  },
  {
   "cell_type": "code",
   "execution_count": null,
   "metadata": {
    "collapsed": true
   },
   "outputs": [],
   "source": []
  }
 ],
 "metadata": {
  "anaconda-cloud": {},
  "kernelspec": {
   "display_name": "Python 3",
   "language": "python",
   "name": "python3"
  },
  "language_info": {
   "codemirror_mode": {
    "name": "ipython",
    "version": 3
   },
   "file_extension": ".py",
   "mimetype": "text/x-python",
   "name": "python",
   "nbconvert_exporter": "python",
   "pygments_lexer": "ipython3",
   "version": "3.6.3"
  }
 },
 "nbformat": 4,
 "nbformat_minor": 1
}
